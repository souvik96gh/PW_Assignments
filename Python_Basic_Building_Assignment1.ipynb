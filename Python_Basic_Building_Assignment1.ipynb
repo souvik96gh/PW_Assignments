{
 "cells": [
  {
   "cell_type": "markdown",
   "id": "799f84c1-d7ba-48a4-866e-7c375342f146",
   "metadata": {},
   "source": [
    "### Q1. Create one variable containing following type of data:\n",
    "(i) string<br>\n",
    "(ii) list<br>\n",
    "(iii) float<br>\n",
    "(iv) tuple"
   ]
  },
  {
   "cell_type": "code",
   "execution_count": 2,
   "id": "89d682aa-4129-4cb3-b27a-03cd4e540a7b",
   "metadata": {},
   "outputs": [
    {
     "name": "stdout",
     "output_type": "stream",
     "text": [
      "<class 'str'>\n",
      "<class 'list'>\n",
      "<class 'float'>\n",
      "<class 'tuple'>\n"
     ]
    }
   ],
   "source": [
    "v_1 = \"Souvik\"                           # String\n",
    "print(type(v_1))\n",
    "v_2 = [\"S\", 0, \"U\", 2.1, True, 11.0+0j]  #List\n",
    "print(type(v_2))\n",
    "v_3 = 3.141592653                        # Float\n",
    "print(type(v_3))\n",
    "v_4 = (4,5)                              # Tuple\n",
    "print(type(v_4))"
   ]
  },
  {
   "cell_type": "code",
   "execution_count": null,
   "id": "d3ee1b93-67de-4d75-9d40-3a90d1bc0c32",
   "metadata": {},
   "outputs": [],
   "source": []
  },
  {
   "cell_type": "code",
   "execution_count": null,
   "id": "120fcadc-e0dd-4f56-9640-205e94a6ddbc",
   "metadata": {},
   "outputs": [],
   "source": []
  },
  {
   "cell_type": "code",
   "execution_count": null,
   "id": "5dff02a0-8a61-4ada-b325-55096a11fabe",
   "metadata": {},
   "outputs": [],
   "source": []
  },
  {
   "cell_type": "code",
   "execution_count": null,
   "id": "e5ab5649-a0b2-422f-a6fe-1c1c279f46c9",
   "metadata": {},
   "outputs": [],
   "source": []
  },
  {
   "cell_type": "markdown",
   "id": "90639cc3-ee59-4e07-b2ab-afbca9bf672b",
   "metadata": {},
   "source": [
    "### Q2. Given are some following variables containing data:\n",
    "(i) var1 = ‘ ‘<br>\n",
    "(ii) var2 = ‘[ DS , ML , Python]’<br>\n",
    "(iii) var3 = [ ‘DS’ , ’ML’ , ‘Python’ ]<br>\n",
    "(iv) var4 = 1.<br>\n",
    "<br>\n",
    "##### ANSWER: String, String, List, Float\n"
   ]
  },
  {
   "cell_type": "code",
   "execution_count": null,
   "id": "862dcc10-7a19-4f10-aaba-be0bf9f4abb2",
   "metadata": {},
   "outputs": [],
   "source": []
  },
  {
   "cell_type": "code",
   "execution_count": null,
   "id": "dee80eff-31c3-4975-95ed-7fc32c3abbfe",
   "metadata": {},
   "outputs": [],
   "source": []
  },
  {
   "cell_type": "code",
   "execution_count": null,
   "id": "ba9a984b-53f6-4841-9c88-baae45c21df1",
   "metadata": {},
   "outputs": [],
   "source": []
  },
  {
   "cell_type": "code",
   "execution_count": null,
   "id": "4de529e9-049a-448a-87b9-e48f9860e0c9",
   "metadata": {},
   "outputs": [],
   "source": []
  },
  {
   "cell_type": "markdown",
   "id": "d1c00c27-9e5f-4c0e-9f55-270be30eb6b5",
   "metadata": {},
   "source": [
    "#### Q3. Explain the use of the following operators using an example:\n",
    "(i) / <br>\n",
    "(ii) % <br>\n",
    "(iii) // <br>\n",
    "(iv) **"
   ]
  },
  {
   "cell_type": "code",
   "execution_count": 3,
   "id": "5dbe522b-8027-4390-9e9e-86242fb56fa8",
   "metadata": {},
   "outputs": [
    {
     "name": "stdout",
     "output_type": "stream",
     "text": [
      "1.5\n",
      "2\n",
      "1\n",
      "1296\n"
     ]
    }
   ],
   "source": [
    "print(6/4) # Division Operator\n",
    "print(6%4) # Remainder Operator\n",
    "print(6//4) # Division Floor Operator\n",
    "print(6**4) # To the power"
   ]
  },
  {
   "cell_type": "code",
   "execution_count": null,
   "id": "130d4ee1-59db-4391-b71f-650c8aec35c6",
   "metadata": {},
   "outputs": [],
   "source": []
  },
  {
   "cell_type": "code",
   "execution_count": null,
   "id": "155259bf-b443-4433-b0d7-151d88f5e8ca",
   "metadata": {},
   "outputs": [],
   "source": []
  },
  {
   "cell_type": "code",
   "execution_count": null,
   "id": "791e9160-0f6b-4ca1-b8ea-133a82116a61",
   "metadata": {},
   "outputs": [],
   "source": []
  },
  {
   "cell_type": "code",
   "execution_count": null,
   "id": "acc5b740-33a4-4c4c-8494-78a4d6ea1424",
   "metadata": {},
   "outputs": [],
   "source": []
  },
  {
   "cell_type": "markdown",
   "id": "548bdf83-dc5d-4152-abfc-dad486e7e13d",
   "metadata": {},
   "source": [
    "#### Q4. Create a list of length 10 of your choice containing multiple types of data. Using for loop print the element and its data type."
   ]
  },
  {
   "cell_type": "code",
   "execution_count": 6,
   "id": "4d5df960-932b-41f2-909a-528eacdb6f40",
   "metadata": {},
   "outputs": [
    {
     "name": "stdout",
     "output_type": "stream",
     "text": [
      "10 : <class 'int'>\n",
      "5.0 : <class 'float'>\n",
      "1996 : <class 'str'>\n",
      "False : <class 'bool'>\n",
      "(50+10j) : <class 'complex'>\n"
     ]
    }
   ],
   "source": [
    "my_list = [10, 5.0, \"1996\", False, 50+10j]\n",
    "\n",
    "for item in my_list:\n",
    "    print(f\"{item} : {type(item)}\")"
   ]
  },
  {
   "cell_type": "code",
   "execution_count": null,
   "id": "1c737b71-7f43-419f-9f1b-3d17ee033304",
   "metadata": {},
   "outputs": [],
   "source": []
  },
  {
   "cell_type": "code",
   "execution_count": null,
   "id": "e6434932-ad70-403a-8ccc-56636a94ed8f",
   "metadata": {},
   "outputs": [],
   "source": []
  },
  {
   "cell_type": "code",
   "execution_count": null,
   "id": "c5552e57-3b1a-4d9d-b572-07df11366407",
   "metadata": {},
   "outputs": [],
   "source": []
  },
  {
   "cell_type": "code",
   "execution_count": null,
   "id": "9182a1cf-ccb4-4d2f-acf5-7ecc0590b5a4",
   "metadata": {},
   "outputs": [],
   "source": []
  },
  {
   "cell_type": "markdown",
   "id": "7fac664c-2715-4a60-9f29-1819543f8a6a",
   "metadata": {},
   "source": [
    "#### Q5: Using a while loop, verify if the number A is purely divisible by number B and if so then how many times it can be divisible."
   ]
  },
  {
   "cell_type": "code",
   "execution_count": 19,
   "id": "04fa4890-1b29-4329-a263-97f375476abb",
   "metadata": {},
   "outputs": [
    {
     "name": "stdin",
     "output_type": "stream",
     "text": [
      "Enter the Higher value (Dividend):  72\n",
      "Enter the Lower value (Divisor):  6\n"
     ]
    },
    {
     "name": "stdout",
     "output_type": "stream",
     "text": [
      "72 is 2 times divisible by 6\n"
     ]
    }
   ],
   "source": [
    "D = int(input(\"Enter the Higher value (Dividend): \"))\n",
    "b = int(input(\"Enter the Lower value (Divisor): \"))\n",
    "\n",
    "count=0\n",
    "a=D\n",
    "while a%b==0:\n",
    " count+=1\n",
    " a=a//b\n",
    "    \n",
    "print(f\"{D} is {count} times divisible by {b}\")"
   ]
  },
  {
   "cell_type": "code",
   "execution_count": null,
   "id": "4185b04a-58cc-4f2c-94fa-358d07e77ed4",
   "metadata": {},
   "outputs": [],
   "source": []
  },
  {
   "cell_type": "code",
   "execution_count": null,
   "id": "ef67158c-6a0b-4f47-8de5-a81c9614d052",
   "metadata": {},
   "outputs": [],
   "source": []
  },
  {
   "cell_type": "code",
   "execution_count": null,
   "id": "cec37fe0-b3c0-4c3c-bca3-ffe85b657ac9",
   "metadata": {},
   "outputs": [],
   "source": []
  },
  {
   "cell_type": "code",
   "execution_count": null,
   "id": "85cc53b3-2058-4d18-af49-9672193fcbe0",
   "metadata": {},
   "outputs": [],
   "source": []
  },
  {
   "cell_type": "markdown",
   "id": "3f6dbdb5-f3be-4fbd-b7e9-3bfdca2c6d11",
   "metadata": {},
   "source": [
    "#### Q6. Create a list containing 25 int type data. Using for loop and if-else condition print if the element is divisible by 3 or not."
   ]
  },
  {
   "cell_type": "code",
   "execution_count": 29,
   "id": "b1472e5a-4e0f-442a-bd06-88d0199f7c12",
   "metadata": {},
   "outputs": [
    {
     "name": "stdout",
     "output_type": "stream",
     "text": [
      "Main List:  [82, 127, 175, 231, 144, 91, 67, 59, 131, 72, 178, 142, 101, 63, 86, 49, 41, 119, 190, 213, 211, 58, 239, 211, 159]\n",
      "\n",
      "\n",
      "Items divisible by three: [231, 144, 72, 63, 213, 159]\n"
     ]
    }
   ],
   "source": [
    "import random\n",
    "A = [random.randint(25,250) for item in range (25)]\n",
    "print(\"Main List: \", A)\n",
    "\n",
    "print(\"\\n\")\n",
    "\n",
    "B = []\n",
    "for items in A:\n",
    "    if items%3==0:\n",
    "        B.append(items)\n",
    "\n",
    "print(\"Items divisible by three:\",B)"
   ]
  },
  {
   "cell_type": "code",
   "execution_count": null,
   "id": "0946af91-f1b5-42f4-920c-07b97139c368",
   "metadata": {},
   "outputs": [],
   "source": []
  },
  {
   "cell_type": "code",
   "execution_count": null,
   "id": "3b444164-cff3-4ed0-8375-8f67214d3628",
   "metadata": {},
   "outputs": [],
   "source": []
  },
  {
   "cell_type": "code",
   "execution_count": null,
   "id": "0ec8f69d-8f25-4e34-a815-8846c8df7efc",
   "metadata": {},
   "outputs": [],
   "source": []
  },
  {
   "cell_type": "code",
   "execution_count": null,
   "id": "3eac6f61-930e-4505-ab04-48855d0982cc",
   "metadata": {},
   "outputs": [],
   "source": []
  },
  {
   "cell_type": "markdown",
   "id": "aa38144f-dcc8-4d7c-9375-65c79bb4b023",
   "metadata": {},
   "source": [
    "#### Q7. What do you understand about mutable and immutable data types? Give examples for both showing this property."
   ]
  },
  {
   "cell_type": "markdown",
   "id": "5e3628c6-0417-49cb-b0c9-214eb2de2b62",
   "metadata": {},
   "source": [
    "Mutability is a property for a collection type datatype, where we can change of update any data in between. In the below example we can see that \"A String is immutable, but a list is mutable\""
   ]
  },
  {
   "cell_type": "code",
   "execution_count": 31,
   "id": "df468329-9122-4640-a483-6014e302b399",
   "metadata": {},
   "outputs": [
    {
     "ename": "TypeError",
     "evalue": "'str' object does not support item assignment",
     "output_type": "error",
     "traceback": [
      "\u001b[0;31m---------------------------------------------------------------------------\u001b[0m",
      "\u001b[0;31mTypeError\u001b[0m                                 Traceback (most recent call last)",
      "Cell \u001b[0;32mIn[31], line 2\u001b[0m\n\u001b[1;32m      1\u001b[0m a \u001b[38;5;241m=\u001b[39m \u001b[38;5;124m\"\u001b[39m\u001b[38;5;124mSouvik\u001b[39m\u001b[38;5;124m\"\u001b[39m\n\u001b[0;32m----> 2\u001b[0m \u001b[43ma\u001b[49m\u001b[43m[\u001b[49m\u001b[38;5;241;43m3\u001b[39;49m\u001b[43m]\u001b[49m\u001b[38;5;241m=\u001b[39m\u001b[38;5;124m\"\u001b[39m\u001b[38;5;124mr\u001b[39m\u001b[38;5;124m\"\u001b[39m\n\u001b[1;32m      3\u001b[0m \u001b[38;5;66;03m### String is immutable\u001b[39;00m\n",
      "\u001b[0;31mTypeError\u001b[0m: 'str' object does not support item assignment"
     ]
    }
   ],
   "source": [
    "a = \"Souvik\"\n",
    "a[3]=\"r\"\n",
    "### String is immutable"
   ]
  },
  {
   "cell_type": "code",
   "execution_count": 32,
   "id": "1d555792-9fc1-4a05-8e18-d5b243fa8b4f",
   "metadata": {},
   "outputs": [
    {
     "name": "stdout",
     "output_type": "stream",
     "text": [
      "['S', 'O', 'U', 'R', 'I', 'K']\n"
     ]
    }
   ],
   "source": [
    "###However List mutable:\n",
    "S = [\"S\", \"O\", \"U\", \"V\", \"I\", \"K\"]\n",
    "S[3] = \"R\"\n",
    "print(S)"
   ]
  },
  {
   "cell_type": "code",
   "execution_count": null,
   "id": "7e2a3fad-7a98-4635-8fb3-d2c7ee4046f5",
   "metadata": {},
   "outputs": [],
   "source": []
  }
 ],
 "metadata": {
  "kernelspec": {
   "display_name": "Python 3 (ipykernel)",
   "language": "python",
   "name": "python3"
  },
  "language_info": {
   "codemirror_mode": {
    "name": "ipython",
    "version": 3
   },
   "file_extension": ".py",
   "mimetype": "text/x-python",
   "name": "python",
   "nbconvert_exporter": "python",
   "pygments_lexer": "ipython3",
   "version": "3.10.8"
  }
 },
 "nbformat": 4,
 "nbformat_minor": 5
}
