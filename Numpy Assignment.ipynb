{
 "cells": [
  {
   "cell_type": "markdown",
   "id": "6faca07d-606e-4dea-ba2c-a58621a37416",
   "metadata": {},
   "source": [
    "# Assignment_Numpy:"
   ]
  },
  {
   "cell_type": "code",
   "execution_count": 25,
   "id": "9369a5ca-4d8b-4f14-a41a-f19b7a45b45d",
   "metadata": {},
   "outputs": [],
   "source": [
    "import numpy as np\n",
    "list_ = [ '1', '2', '3', '4', '5' ]\n",
    "array_list = np.array(object = list_)"
   ]
  },
  {
   "cell_type": "code",
   "execution_count": null,
   "id": "d84ed46d-7193-4b69-b101-5b5e301c33a6",
   "metadata": {},
   "outputs": [],
   "source": []
  },
  {
   "cell_type": "markdown",
   "id": "840e4359-01ff-4d66-bad4-5c2e02342282",
   "metadata": {},
   "source": [
    "#### Q1. Is there any difference in the data type of variables list_ and array_list? If there is then write a code to print the data types of both the variables."
   ]
  },
  {
   "cell_type": "markdown",
   "id": "7049cc31-eff0-498f-96ed-cc666d0da2ab",
   "metadata": {},
   "source": [
    "ANSWER: Yeah! There are few difference between a numpy array and list, there are few diffenence:<br>\n",
    "1. Numpy array better performace in terms of mathematical operation in compared to python list. <br>\n",
    "2. In support of the first point, numpy array are homogenous, supports same type of element, however, lists can contain different types of element <br>\n",
    "3. Numpy array supports broadcasting, however, a list does not supports broadcasting. <br>\n",
    "4. Numpy array is used for numerical computation, however, list is used in most general purpous continuos memory storage <br>"
   ]
  },
  {
   "cell_type": "code",
   "execution_count": 26,
   "id": "b49e05ef-7db7-4f1f-8119-57514eb25030",
   "metadata": {},
   "outputs": [
    {
     "name": "stdout",
     "output_type": "stream",
     "text": [
      "<class 'numpy.ndarray'>\n",
      "<class 'list'>\n"
     ]
    }
   ],
   "source": [
    "print(type(array_list))\n",
    "print(type(list_))"
   ]
  },
  {
   "cell_type": "code",
   "execution_count": null,
   "id": "2dcb1d21-305d-4ddf-8ad8-53a3edc11201",
   "metadata": {},
   "outputs": [],
   "source": []
  },
  {
   "cell_type": "code",
   "execution_count": null,
   "id": "3ea7a091-c343-4f94-b102-274e6293398b",
   "metadata": {},
   "outputs": [],
   "source": []
  },
  {
   "cell_type": "markdown",
   "id": "1768417b-4bd9-40bd-bc90-23adab672856",
   "metadata": {},
   "source": [
    "#### Q2. Write a code to print the data type of each and every element of both the variables list_ and array_list."
   ]
  },
  {
   "cell_type": "code",
   "execution_count": 27,
   "id": "8c861fa4-a587-4ec4-a714-9df416665659",
   "metadata": {},
   "outputs": [
    {
     "name": "stdout",
     "output_type": "stream",
     "text": [
      "<class 'numpy.str_'>\n",
      "<class 'numpy.str_'>\n",
      "<class 'numpy.str_'>\n",
      "<class 'numpy.str_'>\n",
      "<class 'numpy.str_'>\n",
      "\n",
      "\n",
      "* * * * * \n",
      "\n",
      "<class 'str'>\n",
      "<class 'str'>\n",
      "<class 'str'>\n",
      "<class 'str'>\n",
      "<class 'str'>\n"
     ]
    }
   ],
   "source": [
    "for items in array_list: \n",
    "    print(type(items))\n",
    "\n",
    "print(\"\\n\")\n",
    "for i in range(0,5): print(\"*\", end=\" \")\n",
    "print(\"\\n\")\n",
    "\n",
    "for item in list_: \n",
    "    print(type(item))\n"
   ]
  },
  {
   "cell_type": "code",
   "execution_count": null,
   "id": "b025042b-b432-47bc-b6aa-e63efb3ee273",
   "metadata": {},
   "outputs": [],
   "source": []
  },
  {
   "cell_type": "code",
   "execution_count": null,
   "id": "998180a9-d26f-45f6-9b91-1cc4f0c98b07",
   "metadata": {},
   "outputs": [],
   "source": []
  },
  {
   "cell_type": "markdown",
   "id": "62e87537-1321-4cea-b52a-17fb875b6b3e",
   "metadata": {},
   "source": [
    "#### Q3. Considering the following changes in the variable, array_list:\n",
    "array_list = np.array(object = list_, dtype = int)\n",
    "#### Will there be any difference in the data type of the elements present in both the variables, list_ and arra_list? If so then print the data types of each and every element present in both the variables, list_ and arra_list."
   ]
  },
  {
   "cell_type": "markdown",
   "id": "6e334776-fabf-46ba-91dd-1a641c7c4ef7",
   "metadata": {},
   "source": [
    "ANSWER: Yeahh, as for both of the variables, elements are of type string, for numpy it is showing string from numpy class (<class 'numpy.str_'>) and for list_ it is showing only python string (<class 'str'>)."
   ]
  },
  {
   "cell_type": "code",
   "execution_count": null,
   "id": "f1461717-2ff1-48a2-ae8f-c19aa976681b",
   "metadata": {},
   "outputs": [],
   "source": []
  },
  {
   "cell_type": "code",
   "execution_count": null,
   "id": "1c425d84-bb12-471c-b2cd-f0aa0b0d3e12",
   "metadata": {},
   "outputs": [],
   "source": []
  },
  {
   "cell_type": "code",
   "execution_count": 28,
   "id": "73a1a2c3-6b8d-462d-8610-946da90a6a2e",
   "metadata": {},
   "outputs": [],
   "source": [
    "num_list = [ [ 1 , 2 , 3 ] , [ 4 , 5 , 6 ] ]\n",
    "num_array = np.array(object = num_list)"
   ]
  },
  {
   "cell_type": "markdown",
   "id": "98f17879-243c-4bfb-867f-89fb5c5e4e56",
   "metadata": {},
   "source": [
    "#### Q4. Write a code to find the following characteristics of variable, num_array:\n",
    "#### (i) shape\n",
    "#### (ii) size"
   ]
  },
  {
   "cell_type": "code",
   "execution_count": 29,
   "id": "40996dde-8897-4e85-b8b7-c98ac29de720",
   "metadata": {},
   "outputs": [
    {
     "name": "stdout",
     "output_type": "stream",
     "text": [
      "Shape of num_list is (2, 3) and size is 6\n",
      "Shape of num_array is (2, 3) and size is 6\n"
     ]
    }
   ],
   "source": [
    "### FOR num_list:\n",
    "row = len(num_list)\n",
    "column = (len(num_list[0]))\n",
    "size = row*column\n",
    "print(f\"Shape of num_list is ({row}, {column}) and size is {size}\")\n",
    "\n",
    "\n",
    "### FOR num_array:\n",
    "print(f\"Shape of num_array is {num_array.shape} and size is {num_array.size}\")"
   ]
  },
  {
   "cell_type": "code",
   "execution_count": null,
   "id": "4acdaae8-8300-46f4-b86a-8d92b4db21fe",
   "metadata": {},
   "outputs": [],
   "source": []
  },
  {
   "cell_type": "code",
   "execution_count": null,
   "id": "1a247e6f-1e08-4713-8c58-dcf9dd582221",
   "metadata": {},
   "outputs": [],
   "source": []
  },
  {
   "cell_type": "markdown",
   "id": "c43f63e8-a3c7-48ec-a313-aa0c88b20c95",
   "metadata": {},
   "source": [
    "#### Q5. Write a code to create numpy array of 3*3 matrix containing zeros only, using a numpy array creation function. <br> [Hint: The size of the array will be 9 and the shape will be (3,3).]"
   ]
  },
  {
   "cell_type": "code",
   "execution_count": 34,
   "id": "5d92a6f6-854e-405b-92e6-ae42cc908c56",
   "metadata": {},
   "outputs": [
    {
     "data": {
      "text/plain": [
       "matrix([[0, 0, 0],\n",
       "        [0, 0, 0],\n",
       "        [0, 0, 0]])"
      ]
     },
     "execution_count": 34,
     "metadata": {},
     "output_type": "execute_result"
    }
   ],
   "source": [
    "np.matrix(np.zeros(9).reshape(3,3),dtype=int)"
   ]
  },
  {
   "cell_type": "code",
   "execution_count": null,
   "id": "fc69d777-4bed-404e-8c38-8653f66eaf7d",
   "metadata": {},
   "outputs": [],
   "source": []
  },
  {
   "cell_type": "code",
   "execution_count": null,
   "id": "a9b58455-f4ee-4a82-90d1-8238c7094d7c",
   "metadata": {},
   "outputs": [],
   "source": []
  },
  {
   "cell_type": "markdown",
   "id": "a2fcd177-4501-4055-b714-ba4ec5df6736",
   "metadata": {},
   "source": [
    "#### Q6. Create an identity matrix of shape (5,5) using numpy functions? [Hint: An identity matrix is a matrix containing 1 diagonally and other elements will be 0.]"
   ]
  },
  {
   "cell_type": "code",
   "execution_count": 35,
   "id": "e738d62f-5f8e-4dbf-a330-9a1cda2fbec1",
   "metadata": {},
   "outputs": [
    {
     "data": {
      "text/plain": [
       "matrix([[1, 0, 0, 0, 0],\n",
       "        [0, 1, 0, 0, 0],\n",
       "        [0, 0, 1, 0, 0],\n",
       "        [0, 0, 0, 1, 0],\n",
       "        [0, 0, 0, 0, 1]])"
      ]
     },
     "execution_count": 35,
     "metadata": {},
     "output_type": "execute_result"
    }
   ],
   "source": [
    "np.matrix(np.eye(5), dtype=int)"
   ]
  },
  {
   "cell_type": "code",
   "execution_count": null,
   "id": "310cd835-eeac-4260-861e-80481aef7e46",
   "metadata": {},
   "outputs": [],
   "source": []
  }
 ],
 "metadata": {
  "kernelspec": {
   "display_name": "Python 3 (ipykernel)",
   "language": "python",
   "name": "python3"
  },
  "language_info": {
   "codemirror_mode": {
    "name": "ipython",
    "version": 3
   },
   "file_extension": ".py",
   "mimetype": "text/x-python",
   "name": "python",
   "nbconvert_exporter": "python",
   "pygments_lexer": "ipython3",
   "version": "3.10.8"
  }
 },
 "nbformat": 4,
 "nbformat_minor": 5
}
