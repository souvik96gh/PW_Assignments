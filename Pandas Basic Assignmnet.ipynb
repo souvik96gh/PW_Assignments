{
 "cells": [
  {
   "cell_type": "code",
   "execution_count": 1,
   "id": "c55734da-88b3-4331-8e48-a933be6b7691",
   "metadata": {},
   "outputs": [],
   "source": [
    "import pandas as pd"
   ]
  },
  {
   "cell_type": "markdown",
   "id": "354bc762-0a4d-40ab-beb7-b7a8a20b50f7",
   "metadata": {},
   "source": [
    "### Q1. Create a Pandas Series that contains the following data: 4, 8, 15, 16, 23, and 42. Then, print the series."
   ]
  },
  {
   "cell_type": "code",
   "execution_count": 2,
   "id": "740b0b05-85de-4617-88f8-b39310c8a308",
   "metadata": {},
   "outputs": [
    {
     "data": {
      "text/plain": [
       "0     4\n",
       "1     8\n",
       "2    15\n",
       "3    16\n",
       "4    23\n",
       "5    42\n",
       "dtype: int64"
      ]
     },
     "execution_count": 2,
     "metadata": {},
     "output_type": "execute_result"
    }
   ],
   "source": [
    "pd.Series([4,8,15,16,23,42])"
   ]
  },
  {
   "cell_type": "code",
   "execution_count": null,
   "id": "114611cc-bfbb-443e-9ac0-372a886c9a38",
   "metadata": {},
   "outputs": [],
   "source": []
  },
  {
   "cell_type": "code",
   "execution_count": null,
   "id": "a9cd9383-51fe-4fdb-b3c2-a04094cacd0f",
   "metadata": {},
   "outputs": [],
   "source": []
  },
  {
   "cell_type": "code",
   "execution_count": null,
   "id": "41571515-6c70-4648-88ec-55536d4cb8a2",
   "metadata": {},
   "outputs": [],
   "source": []
  },
  {
   "cell_type": "markdown",
   "id": "52d2e5bf-31dd-436f-9469-7dcb3a74602a",
   "metadata": {},
   "source": [
    "### Q2. Create a variable of list type containing 10 elements in it, and apply pandas.Series function on the variable print it."
   ]
  },
  {
   "cell_type": "code",
   "execution_count": 3,
   "id": "727bcd47-bf8c-486b-935d-e13b0b3c1df3",
   "metadata": {},
   "outputs": [
    {
     "data": {
      "text/plain": [
       "0      1\n",
       "1     16\n",
       "2     31\n",
       "3     46\n",
       "4     61\n",
       "5     76\n",
       "6     91\n",
       "7    106\n",
       "8    121\n",
       "9    136\n",
       "dtype: int64"
      ]
     },
     "execution_count": 3,
     "metadata": {},
     "output_type": "execute_result"
    }
   ],
   "source": [
    "mylist = [x for x in range (1,150,15)]\n",
    "pd.Series(mylist)"
   ]
  },
  {
   "cell_type": "code",
   "execution_count": null,
   "id": "cf6a7f56-e726-49a5-93eb-16117fbe1ed3",
   "metadata": {},
   "outputs": [],
   "source": []
  },
  {
   "cell_type": "code",
   "execution_count": null,
   "id": "aca5b3b6-94e5-458d-96b7-c407cb44822f",
   "metadata": {},
   "outputs": [],
   "source": []
  },
  {
   "cell_type": "code",
   "execution_count": null,
   "id": "521ba686-e1eb-4080-b476-b717ae7c2613",
   "metadata": {},
   "outputs": [],
   "source": []
  },
  {
   "cell_type": "markdown",
   "id": "1ecf3056-5a29-4962-9d65-07763351c5f5",
   "metadata": {},
   "source": [
    "### Q3. Create a Pandas DataFrame that contains the following data: (given in question) then print it."
   ]
  },
  {
   "cell_type": "code",
   "execution_count": 4,
   "id": "859a5435-bc6f-4cf3-ac82-9487aed0c25b",
   "metadata": {},
   "outputs": [
    {
     "name": "stdout",
     "output_type": "stream",
     "text": [
      "  Name  Age Gender\n",
      " Alice   25 Female\n",
      "   Bob   30   Male\n",
      "Claire   27 Female\n"
     ]
    }
   ],
   "source": [
    "my_dict = {\"Name\": [\"Alice\", \"Bob\", \"Claire\"], \"Age\": [25, 30, 27], \"Gender\": [\"Female\", \"Male\", \"Female\"]}\n",
    "df = pd.DataFrame(my_dict)\n",
    "print(df.to_string(index=False))"
   ]
  },
  {
   "cell_type": "code",
   "execution_count": null,
   "id": "b8e4274f-f8e0-4d7a-bd61-0f2ded328b42",
   "metadata": {},
   "outputs": [],
   "source": []
  },
  {
   "cell_type": "code",
   "execution_count": null,
   "id": "3a371aa9-f69f-45a6-9077-724b0c9e2cda",
   "metadata": {},
   "outputs": [],
   "source": []
  },
  {
   "cell_type": "code",
   "execution_count": null,
   "id": "fa7cd941-c4c6-4b9d-bec7-c99ef8e5e471",
   "metadata": {},
   "outputs": [],
   "source": []
  },
  {
   "cell_type": "markdown",
   "id": "1d64bd0a-991b-4304-b09f-e0b354844d7e",
   "metadata": {},
   "source": [
    "### Q4. What is ‘DataFrame’ in pandas and how is it different from pandas Series? Explain with an example."
   ]
  },
  {
   "cell_type": "markdown",
   "id": "1e4d9ba8-5c73-4f4b-8ab8-fd19795e0955",
   "metadata": {},
   "source": [
    "DataFrame is a representation of the tabular structure of data having a proper control on header and indexes. It is mostly two-dimensional. On the other hand, Series is one dimensional and having a single column of element (with index). We can consider each column of a DataFrame is Series. Below example will demonstrate it:"
   ]
  },
  {
   "cell_type": "code",
   "execution_count": 5,
   "id": "9f4e54ed-6fa7-4042-82f0-c468db52dd5c",
   "metadata": {},
   "outputs": [
    {
     "name": "stdout",
     "output_type": "stream",
     "text": [
      "     Name  Age  Gender\n",
      "0   Alice   25  Female\n",
      "1     Bob   30    Male\n",
      "2  Claire   27  Female\n",
      "<class 'pandas.core.frame.DataFrame'>\n",
      "\n",
      "\n",
      "*************\n",
      "\n",
      "\n",
      "0    25\n",
      "1    30\n",
      "2    27\n",
      "Name: Age, dtype: int64\n",
      "<class 'pandas.core.series.Series'>\n"
     ]
    }
   ],
   "source": [
    "print(df)\n",
    "print(type(df))\n",
    "print(\"\\n\\n*************\\n\\n\")\n",
    "print(df.iloc[:,1])\n",
    "print(type(df.iloc[:,1]))"
   ]
  },
  {
   "cell_type": "code",
   "execution_count": null,
   "id": "811effd9-43e9-47c9-9626-051b34d1b6e1",
   "metadata": {},
   "outputs": [],
   "source": []
  },
  {
   "cell_type": "code",
   "execution_count": null,
   "id": "dafcfb6d-b273-43fa-ada6-080103675b22",
   "metadata": {},
   "outputs": [],
   "source": []
  },
  {
   "cell_type": "code",
   "execution_count": null,
   "id": "c4131d3e-a095-4951-bb18-4a1872e5dfa9",
   "metadata": {},
   "outputs": [],
   "source": []
  },
  {
   "cell_type": "markdown",
   "id": "b56feb8f-495a-46d4-9cb1-0a691f00c69a",
   "metadata": {},
   "source": [
    "### Q5. What are some common functions you can use to manipulate data in a Pandas DataFrame? Can you give an example of when you might use one of these functions?"
   ]
  },
  {
   "cell_type": "markdown",
   "id": "07f2bdff-d219-4629-ae90-d745671b0119",
   "metadata": {},
   "source": [
    "1. pd.read_csv(), pd.read_excel(), pd.read_html() etc..\n",
    "2. df.head(), df.tail()\n",
    "3. df.concat(), df.merge()\n",
    "4. df.to_csv(), df.to_excel() etc<br>\n",
    "\n",
    "Let's Use Concatenation function"
   ]
  },
  {
   "cell_type": "code",
   "execution_count": 6,
   "id": "5cec5c34-ebc4-4c23-a5d4-a5a8b2bd43b4",
   "metadata": {},
   "outputs": [
    {
     "data": {
      "text/html": [
       "<div>\n",
       "<style scoped>\n",
       "    .dataframe tbody tr th:only-of-type {\n",
       "        vertical-align: middle;\n",
       "    }\n",
       "\n",
       "    .dataframe tbody tr th {\n",
       "        vertical-align: top;\n",
       "    }\n",
       "\n",
       "    .dataframe thead th {\n",
       "        text-align: right;\n",
       "    }\n",
       "</style>\n",
       "<table border=\"1\" class=\"dataframe\">\n",
       "  <thead>\n",
       "    <tr style=\"text-align: right;\">\n",
       "      <th></th>\n",
       "      <th>Name</th>\n",
       "      <th>Age</th>\n",
       "      <th>Gender</th>\n",
       "    </tr>\n",
       "  </thead>\n",
       "  <tbody>\n",
       "    <tr>\n",
       "      <th>0</th>\n",
       "      <td>Alice</td>\n",
       "      <td>25</td>\n",
       "      <td>Female</td>\n",
       "    </tr>\n",
       "    <tr>\n",
       "      <th>1</th>\n",
       "      <td>Bob</td>\n",
       "      <td>30</td>\n",
       "      <td>Male</td>\n",
       "    </tr>\n",
       "    <tr>\n",
       "      <th>2</th>\n",
       "      <td>Claire</td>\n",
       "      <td>27</td>\n",
       "      <td>Female</td>\n",
       "    </tr>\n",
       "  </tbody>\n",
       "</table>\n",
       "</div>"
      ],
      "text/plain": [
       "     Name  Age  Gender\n",
       "0   Alice   25  Female\n",
       "1     Bob   30    Male\n",
       "2  Claire   27  Female"
      ]
     },
     "execution_count": 6,
     "metadata": {},
     "output_type": "execute_result"
    }
   ],
   "source": [
    "df"
   ]
  },
  {
   "cell_type": "code",
   "execution_count": 7,
   "id": "b20ea8be-a2ce-43a7-b94f-1786defb1ef5",
   "metadata": {},
   "outputs": [
    {
     "data": {
      "text/html": [
       "<div>\n",
       "<style scoped>\n",
       "    .dataframe tbody tr th:only-of-type {\n",
       "        vertical-align: middle;\n",
       "    }\n",
       "\n",
       "    .dataframe tbody tr th {\n",
       "        vertical-align: top;\n",
       "    }\n",
       "\n",
       "    .dataframe thead th {\n",
       "        text-align: right;\n",
       "    }\n",
       "</style>\n",
       "<table border=\"1\" class=\"dataframe\">\n",
       "  <thead>\n",
       "    <tr style=\"text-align: right;\">\n",
       "      <th></th>\n",
       "      <th>Name</th>\n",
       "      <th>Age</th>\n",
       "      <th>Gender</th>\n",
       "    </tr>\n",
       "  </thead>\n",
       "  <tbody>\n",
       "    <tr>\n",
       "      <th>0</th>\n",
       "      <td>Souvik</td>\n",
       "      <td>27</td>\n",
       "      <td>Male</td>\n",
       "    </tr>\n",
       "    <tr>\n",
       "      <th>1</th>\n",
       "      <td>Souvick</td>\n",
       "      <td>29</td>\n",
       "      <td>Male</td>\n",
       "    </tr>\n",
       "    <tr>\n",
       "      <th>2</th>\n",
       "      <td>Asmita</td>\n",
       "      <td>28</td>\n",
       "      <td>Female</td>\n",
       "    </tr>\n",
       "  </tbody>\n",
       "</table>\n",
       "</div>"
      ],
      "text/plain": [
       "      Name  Age  Gender\n",
       "0   Souvik   27    Male\n",
       "1  Souvick   29    Male\n",
       "2   Asmita   28  Female"
      ]
     },
     "execution_count": 7,
     "metadata": {},
     "output_type": "execute_result"
    }
   ],
   "source": [
    "df2 = pd.DataFrame({\"Name\": [\"Souvik\",\"Souvick\",\"Asmita\"], \"Age\": [27, 29,28], \"Gender\": [\"Male\", \"Male\", \"Female\"]})\n",
    "df2"
   ]
  },
  {
   "cell_type": "code",
   "execution_count": 8,
   "id": "a6718052-2621-4185-8d60-755232a383ef",
   "metadata": {},
   "outputs": [
    {
     "data": {
      "text/html": [
       "<div>\n",
       "<style scoped>\n",
       "    .dataframe tbody tr th:only-of-type {\n",
       "        vertical-align: middle;\n",
       "    }\n",
       "\n",
       "    .dataframe tbody tr th {\n",
       "        vertical-align: top;\n",
       "    }\n",
       "\n",
       "    .dataframe thead th {\n",
       "        text-align: right;\n",
       "    }\n",
       "</style>\n",
       "<table border=\"1\" class=\"dataframe\">\n",
       "  <thead>\n",
       "    <tr style=\"text-align: right;\">\n",
       "      <th></th>\n",
       "      <th>Name</th>\n",
       "      <th>Age</th>\n",
       "      <th>Gender</th>\n",
       "    </tr>\n",
       "  </thead>\n",
       "  <tbody>\n",
       "    <tr>\n",
       "      <th>0</th>\n",
       "      <td>Alice</td>\n",
       "      <td>25</td>\n",
       "      <td>Female</td>\n",
       "    </tr>\n",
       "    <tr>\n",
       "      <th>1</th>\n",
       "      <td>Bob</td>\n",
       "      <td>30</td>\n",
       "      <td>Male</td>\n",
       "    </tr>\n",
       "    <tr>\n",
       "      <th>2</th>\n",
       "      <td>Claire</td>\n",
       "      <td>27</td>\n",
       "      <td>Female</td>\n",
       "    </tr>\n",
       "    <tr>\n",
       "      <th>3</th>\n",
       "      <td>Souvik</td>\n",
       "      <td>27</td>\n",
       "      <td>Male</td>\n",
       "    </tr>\n",
       "    <tr>\n",
       "      <th>4</th>\n",
       "      <td>Souvick</td>\n",
       "      <td>29</td>\n",
       "      <td>Male</td>\n",
       "    </tr>\n",
       "    <tr>\n",
       "      <th>5</th>\n",
       "      <td>Asmita</td>\n",
       "      <td>28</td>\n",
       "      <td>Female</td>\n",
       "    </tr>\n",
       "  </tbody>\n",
       "</table>\n",
       "</div>"
      ],
      "text/plain": [
       "      Name  Age  Gender\n",
       "0    Alice   25  Female\n",
       "1      Bob   30    Male\n",
       "2   Claire   27  Female\n",
       "3   Souvik   27    Male\n",
       "4  Souvick   29    Male\n",
       "5   Asmita   28  Female"
      ]
     },
     "execution_count": 8,
     "metadata": {},
     "output_type": "execute_result"
    }
   ],
   "source": [
    "df_new = pd.concat([df,df2],axis=0,ignore_index=True)\n",
    "df_new"
   ]
  },
  {
   "cell_type": "code",
   "execution_count": null,
   "id": "2f217bb9-575c-4fb6-b514-25d4e9a63a14",
   "metadata": {},
   "outputs": [],
   "source": []
  },
  {
   "cell_type": "code",
   "execution_count": null,
   "id": "8c207174-ce3d-42f1-b89f-81603c8e085f",
   "metadata": {},
   "outputs": [],
   "source": []
  },
  {
   "cell_type": "code",
   "execution_count": null,
   "id": "afd5b21d-a294-4caa-9eda-b3379c9517af",
   "metadata": {},
   "outputs": [],
   "source": []
  },
  {
   "cell_type": "markdown",
   "id": "7366907e-6d70-4be4-b6a8-613bde116552",
   "metadata": {},
   "source": [
    "### Q6. Which of the following is mutable in nature Series, DataFrame, Panel?"
   ]
  },
  {
   "cell_type": "code",
   "execution_count": 9,
   "id": "f5051e06-4d16-42c9-90e9-b03696038eb4",
   "metadata": {},
   "outputs": [
    {
     "data": {
      "text/html": [
       "<div>\n",
       "<style scoped>\n",
       "    .dataframe tbody tr th:only-of-type {\n",
       "        vertical-align: middle;\n",
       "    }\n",
       "\n",
       "    .dataframe tbody tr th {\n",
       "        vertical-align: top;\n",
       "    }\n",
       "\n",
       "    .dataframe thead th {\n",
       "        text-align: right;\n",
       "    }\n",
       "</style>\n",
       "<table border=\"1\" class=\"dataframe\">\n",
       "  <thead>\n",
       "    <tr style=\"text-align: right;\">\n",
       "      <th></th>\n",
       "      <th>Name</th>\n",
       "      <th>Age</th>\n",
       "      <th>Gender</th>\n",
       "    </tr>\n",
       "  </thead>\n",
       "  <tbody>\n",
       "    <tr>\n",
       "      <th>0</th>\n",
       "      <td>Alice</td>\n",
       "      <td>25</td>\n",
       "      <td>Female</td>\n",
       "    </tr>\n",
       "    <tr>\n",
       "      <th>1</th>\n",
       "      <td>Bob</td>\n",
       "      <td>60</td>\n",
       "      <td>Male</td>\n",
       "    </tr>\n",
       "    <tr>\n",
       "      <th>2</th>\n",
       "      <td>Claire</td>\n",
       "      <td>27</td>\n",
       "      <td>Female</td>\n",
       "    </tr>\n",
       "    <tr>\n",
       "      <th>3</th>\n",
       "      <td>Souvik</td>\n",
       "      <td>27</td>\n",
       "      <td>Male</td>\n",
       "    </tr>\n",
       "    <tr>\n",
       "      <th>4</th>\n",
       "      <td>Souvick</td>\n",
       "      <td>29</td>\n",
       "      <td>Male</td>\n",
       "    </tr>\n",
       "    <tr>\n",
       "      <th>5</th>\n",
       "      <td>Asmita</td>\n",
       "      <td>28</td>\n",
       "      <td>Female</td>\n",
       "    </tr>\n",
       "  </tbody>\n",
       "</table>\n",
       "</div>"
      ],
      "text/plain": [
       "      Name  Age  Gender\n",
       "0    Alice   25  Female\n",
       "1      Bob   60    Male\n",
       "2   Claire   27  Female\n",
       "3   Souvik   27    Male\n",
       "4  Souvick   29    Male\n",
       "5   Asmita   28  Female"
      ]
     },
     "execution_count": 9,
     "metadata": {},
     "output_type": "execute_result"
    }
   ],
   "source": [
    "df_new.iloc[1,1] = 60\n",
    "df_new"
   ]
  },
  {
   "cell_type": "markdown",
   "id": "bcd3cfcd-8aae-48be-aa1d-fb27e5fbbcc1",
   "metadata": {},
   "source": [
    "We can see that the DataFrame is definitely Mutable."
   ]
  },
  {
   "cell_type": "code",
   "execution_count": 10,
   "id": "581325a1-1421-40f0-bc0d-d48c7ee7a133",
   "metadata": {},
   "outputs": [
    {
     "name": "stderr",
     "output_type": "stream",
     "text": [
      "/tmp/ipykernel_3800/4192329037.py:2: SettingWithCopyWarning: \n",
      "A value is trying to be set on a copy of a slice from a DataFrame\n",
      "\n",
      "See the caveats in the documentation: https://pandas.pydata.org/pandas-docs/stable/user_guide/indexing.html#returning-a-view-versus-a-copy\n",
      "  my_Series[4] = \"Ranbir\"\n"
     ]
    }
   ],
   "source": [
    "my_Series = df_new[\"Name\"]\n",
    "my_Series[4] = \"Ranbir\""
   ]
  },
  {
   "cell_type": "markdown",
   "id": "67851dde-7fc7-411f-9e76-a31b96675f13",
   "metadata": {},
   "source": [
    "Series is immutable!!!"
   ]
  },
  {
   "cell_type": "markdown",
   "id": "41b81bfe-25f6-4164-b59a-1011e95e2ec3",
   "metadata": {},
   "source": [
    "Hey, Unfortunastely I'm not sure about Panel."
   ]
  },
  {
   "cell_type": "code",
   "execution_count": null,
   "id": "df7b55a0-a6ab-432e-b753-e9cc7688770f",
   "metadata": {},
   "outputs": [],
   "source": []
  },
  {
   "cell_type": "code",
   "execution_count": null,
   "id": "d9c30068-37e4-482e-8457-724701b05ded",
   "metadata": {},
   "outputs": [],
   "source": []
  },
  {
   "cell_type": "code",
   "execution_count": null,
   "id": "541d1dfb-dbda-4fc9-af38-43c0d5994dc7",
   "metadata": {},
   "outputs": [],
   "source": []
  },
  {
   "cell_type": "markdown",
   "id": "d66aa426-a587-447b-a824-3330b318e5bc",
   "metadata": {},
   "source": [
    "### Q7. Create a DataFrame using multiple Series. Explain with an example."
   ]
  },
  {
   "cell_type": "code",
   "execution_count": 11,
   "id": "d82b8133-31d7-4764-82d6-562f1c0294fb",
   "metadata": {},
   "outputs": [],
   "source": [
    "name = pd.Series([\"Anand\", \"Caruana\", \"Polgar\", \"Pragnananda\", \"Carlsen\"])\n",
    "Age = pd.Series([52,31,47,18,32])\n",
    "Rating = pd.Series([2754, 2782, 2675, 2707, 2835])\n",
    "Country = pd.Series([\"India\",\"USA\",\"Hungary\",\"India\",\"Norway\"])"
   ]
  },
  {
   "cell_type": "code",
   "execution_count": 15,
   "id": "dcce3ab7-9d84-4f09-8256-ed4bc9a5859c",
   "metadata": {},
   "outputs": [
    {
     "name": "stdout",
     "output_type": "stream",
     "text": [
      "          Name  Age  Rating  Country\n",
      "0        Anand   52    2754    India\n",
      "1      Caruana   31    2782      USA\n",
      "2       Polgar   47    2675  Hungary\n",
      "3  Pragnananda   18    2707    India\n",
      "4      Carlsen   32    2835   Norway\n"
     ]
    }
   ],
   "source": [
    "Chess = pd.concat([name,Age,Rating,Country],axis=1)\n",
    "Chess.columns = [\"Name\", \"Age\", \"Rating\", \"Country\"]\n",
    "print(Chess)"
   ]
  },
  {
   "cell_type": "code",
   "execution_count": null,
   "id": "4e5be4f2-e9f9-4e06-b6f0-b44d5ef983b8",
   "metadata": {},
   "outputs": [],
   "source": []
  }
 ],
 "metadata": {
  "kernelspec": {
   "display_name": "Python 3 (ipykernel)",
   "language": "python",
   "name": "python3"
  },
  "language_info": {
   "codemirror_mode": {
    "name": "ipython",
    "version": 3
   },
   "file_extension": ".py",
   "mimetype": "text/x-python",
   "name": "python",
   "nbconvert_exporter": "python",
   "pygments_lexer": "ipython3",
   "version": "3.10.8"
  }
 },
 "nbformat": 4,
 "nbformat_minor": 5
}
